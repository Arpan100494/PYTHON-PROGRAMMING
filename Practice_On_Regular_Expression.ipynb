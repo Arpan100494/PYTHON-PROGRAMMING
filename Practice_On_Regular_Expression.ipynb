{
 "cells": [
  {
   "cell_type": "code",
   "execution_count": 1,
   "metadata": {},
   "outputs": [],
   "source": [
    "import re"
   ]
  },
  {
   "cell_type": "code",
   "execution_count": 2,
   "metadata": {},
   "outputs": [
    {
     "data": {
      "text/plain": [
       "re.compile(r'[a-e]', re.UNICODE)"
      ]
     },
     "execution_count": 2,
     "metadata": {},
     "output_type": "execute_result"
    }
   ],
   "source": [
    "p = re.compile('[a-e]')#creating a bucket of character\n",
    "p"
   ]
  },
  {
   "cell_type": "code",
   "execution_count": 3,
   "metadata": {},
   "outputs": [
    {
     "data": {
      "text/plain": [
       "['e', 'a', 'a', 'a', 'b', 'a', 'a', 'a']"
      ]
     },
     "execution_count": 3,
     "metadata": {},
     "output_type": "execute_result"
    }
   ],
   "source": [
    "p.findall(\"hello i am arpan bhunia from kolkata\")"
   ]
  },
  {
   "cell_type": "markdown",
   "metadata": {},
   "source": [
    "# -------------------------"
   ]
  },
  {
   "cell_type": "code",
   "execution_count": 4,
   "metadata": {},
   "outputs": [
    {
     "data": {
      "text/plain": [
       "['1', '1', '4', '1', '8', '8', '6']"
      ]
     },
     "execution_count": 4,
     "metadata": {},
     "output_type": "execute_result"
    }
   ],
   "source": [
    "p = re.compile(\"\\d\")#create all the digit from [0-9]\n",
    "p.findall(\"I went to him at 11 A.M. on 4th july 1886\")"
   ]
  },
  {
   "cell_type": "code",
   "execution_count": 5,
   "metadata": {},
   "outputs": [
    {
     "data": {
      "text/plain": [
       "['11', '4', '1886']"
      ]
     },
     "execution_count": 5,
     "metadata": {},
     "output_type": "execute_result"
    }
   ],
   "source": [
    "p = re.compile(\"\\d+\") #this will match group of all[0-9] group of one or greater size\n",
    "p.findall(\"I went to him at 11 A.M. on 4th july 1886\")"
   ]
  },
  {
   "cell_type": "markdown",
   "metadata": {},
   "source": [
    "# ---------------------------------------"
   ]
  },
  {
   "cell_type": "code",
   "execution_count": 6,
   "metadata": {},
   "outputs": [
    {
     "data": {
      "text/plain": [
       "['H',\n",
       " 'e',\n",
       " 's',\n",
       " 'a',\n",
       " 'i',\n",
       " 'd',\n",
       " 'i',\n",
       " 'n',\n",
       " 's',\n",
       " 'o',\n",
       " 'm',\n",
       " 'e',\n",
       " '_',\n",
       " 'l',\n",
       " 'a',\n",
       " 'n',\n",
       " 'g']"
      ]
     },
     "execution_count": 6,
     "metadata": {},
     "output_type": "execute_result"
    }
   ],
   "source": [
    "b = re.compile(\"\\w\")# its equvaalent to [a-zA-Z0-9_]\n",
    "b.findall(\"He said * in some_lang.\")"
   ]
  },
  {
   "cell_type": "code",
   "execution_count": 7,
   "metadata": {},
   "outputs": [
    {
     "data": {
      "text/plain": [
       "['I',\n",
       " 'went',\n",
       " 'to',\n",
       " 'him',\n",
       " 'at',\n",
       " '11',\n",
       " 'A',\n",
       " 'M',\n",
       " 'he',\n",
       " 'said',\n",
       " 'in',\n",
       " 'some_lang']"
      ]
     },
     "execution_count": 7,
     "metadata": {},
     "output_type": "execute_result"
    }
   ],
   "source": [
    "b = re.compile(\"\\w+\")# w+ group of alphanumeric char [a-zA-Z0-9_]\n",
    "b.findall(\"I went to him at 11 A.M., he said *** in some_lang\")"
   ]
  },
  {
   "cell_type": "code",
   "execution_count": 9,
   "metadata": {},
   "outputs": [
    {
     "data": {
      "text/plain": [
       "[' ',\n",
       " ' ',\n",
       " ' ',\n",
       " ' ',\n",
       " ' ',\n",
       " ' ',\n",
       " '.',\n",
       " '.',\n",
       " ',',\n",
       " ' ',\n",
       " ' ',\n",
       " ' ',\n",
       " '*',\n",
       " '*',\n",
       " '*',\n",
       " ' ',\n",
       " ' ']"
      ]
     },
     "execution_count": 9,
     "metadata": {},
     "output_type": "execute_result"
    }
   ],
   "source": [
    "b = re.compile(\"\\W\")# W matches non alphanumeric char \n",
    "b.findall(\"I went to him at 11 A.M., he said *** in some_lang\")"
   ]
  },
  {
   "cell_type": "markdown",
   "metadata": {},
   "source": [
    "# -------------------------------------"
   ]
  },
  {
   "cell_type": "code",
   "execution_count": 10,
   "metadata": {},
   "outputs": [],
   "source": [
    "from re import split"
   ]
  },
  {
   "cell_type": "code",
   "execution_count": 12,
   "metadata": {},
   "outputs": [
    {
     "name": "stdout",
     "output_type": "stream",
     "text": [
      "['Do', 'not', 'worry', 'sam', 'will', 'be', 'home', 'by', '2', 'pm', 'So', 'will']\n"
     ]
    }
   ],
   "source": [
    "print(split('\\W+',\"Do not worry, sam will be home by 2 pm. So will\"))"
   ]
  },
  {
   "cell_type": "code",
   "execution_count": 17,
   "metadata": {},
   "outputs": [
    {
     "name": "stdout",
     "output_type": "stream",
     "text": [
      "['Do not worry, sam will ', ' be home by ', ' pm. So will home ', ':', ':', '']\n"
     ]
    }
   ],
   "source": [
    "print(split('\\d+',\"Do not worry, sam will 3 be home by 2 pm. So will home 11:22:33\"))"
   ]
  },
  {
   "cell_type": "markdown",
   "metadata": {},
   "source": [
    "# --------------------"
   ]
  },
  {
   "cell_type": "code",
   "execution_count": 20,
   "metadata": {},
   "outputs": [
    {
     "data": {
      "text/plain": [
       "'This\\\\ is\\\\ Awseome\\\\ even\\\\ 1\\\\ AM\\\\ \\\\*\\\\*\\\\ and\\\\ '"
      ]
     },
     "execution_count": 20,
     "metadata": {},
     "output_type": "execute_result"
    }
   ],
   "source": [
    "re.escape(\"This is Awseome even 1 AM ** and \")#escape returns a string with backslash before every non alphanumeric char"
   ]
  },
  {
   "cell_type": "markdown",
   "metadata": {},
   "source": [
    "# -------------------------"
   ]
  },
  {
   "cell_type": "code",
   "execution_count": 21,
   "metadata": {},
   "outputs": [
    {
     "name": "stdout",
     "output_type": "stream",
     "text": [
      "S~*ject has ~*er booked already\n"
     ]
    }
   ],
   "source": [
    "print(re.sub(\"ub\",\"~*\",\"Subject has uber booked already\"))# replace ub with ~* "
   ]
  },
  {
   "cell_type": "code",
   "execution_count": 25,
   "metadata": {},
   "outputs": [
    {
     "name": "stdout",
     "output_type": "stream",
     "text": [
      "S~*ject has uber booked already\n"
     ]
    }
   ],
   "source": [
    "print(re.sub(\"ub\",\"~*\",\"Subject has uber booked already\",count=1))# maximum item replacement occurs"
   ]
  },
  {
   "cell_type": "code",
   "execution_count": 27,
   "metadata": {},
   "outputs": [
    {
     "name": "stdout",
     "output_type": "stream",
     "text": [
      "('S~*ject has ~*er b~*ked already', 3)\n"
     ]
    }
   ],
   "source": [
    "print(re.subn(\"ub\",\"~*\",\"Subject has uber bubked already\"))# return tuple with no of  replacement happen"
   ]
  },
  {
   "cell_type": "markdown",
   "metadata": {},
   "source": [
    "# ------------"
   ]
  },
  {
   "cell_type": "code",
   "execution_count": null,
   "metadata": {},
   "outputs": [],
   "source": []
  }
 ],
 "metadata": {
  "kernelspec": {
   "display_name": "Python 3",
   "language": "python",
   "name": "python3"
  },
  "language_info": {
   "codemirror_mode": {
    "name": "ipython",
    "version": 3
   },
   "file_extension": ".py",
   "mimetype": "text/x-python",
   "name": "python",
   "nbconvert_exporter": "python",
   "pygments_lexer": "ipython3",
   "version": "3.7.1"
  }
 },
 "nbformat": 4,
 "nbformat_minor": 2
}
