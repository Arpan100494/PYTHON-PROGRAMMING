{
 "cells": [
  {
   "cell_type": "markdown",
   "metadata": {},
   "source": [
    "# CLASS-4"
   ]
  },
  {
   "cell_type": "markdown",
   "metadata": {},
   "source": [
    "### DATE-11-02-2019"
   ]
  },
  {
   "cell_type": "code",
   "execution_count": 1,
   "metadata": {},
   "outputs": [],
   "source": [
    "dict1 = {'a': 1, 'b': 2, 'c': 3, 'd': 4, 'e': 5}"
   ]
  },
  {
   "cell_type": "code",
   "execution_count": 4,
   "metadata": {},
   "outputs": [
    {
     "data": {
      "text/plain": [
       "{'a': 2, 'b': 4, 'c': 6, 'd': 8, 'e': 10}"
      ]
     },
     "execution_count": 4,
     "metadata": {},
     "output_type": "execute_result"
    }
   ],
   "source": [
    "dict2 = {k:v*2 for (k,v) in dict1.items()}\n",
    "dict2"
   ]
  },
  {
   "cell_type": "markdown",
   "metadata": {},
   "source": [
    "# Example of try and except"
   ]
  },
  {
   "cell_type": "code",
   "execution_count": 13,
   "metadata": {},
   "outputs": [
    {
     "name": "stdout",
     "output_type": "stream",
     "text": [
      "Enter a: 20\n",
      "Enter b: 0\n",
      "Division by zero is not possible,Enter b again\n",
      "Enter b: 23\n",
      "Result is : 0.8695652173913043\n"
     ]
    }
   ],
   "source": [
    "a = int(input(\"Enter a: \"))\n",
    "while True:\n",
    "    b = int(input(\"Enter b: \"))\n",
    "    try:\n",
    "        x = a / b\n",
    "        break\n",
    "    except:\n",
    "        print(\"Division by zero is not possible,Enter b again\")\n",
    "print(\"Result is :\",x)"
   ]
  },
  {
   "cell_type": "code",
   "execution_count": null,
   "metadata": {},
   "outputs": [],
   "source": []
  },
  {
   "cell_type": "code",
   "execution_count": null,
   "metadata": {},
   "outputs": [],
   "source": []
  },
  {
   "cell_type": "markdown",
   "metadata": {},
   "source": [
    "# Files"
   ]
  },
  {
   "cell_type": "code",
   "execution_count": 11,
   "metadata": {},
   "outputs": [
    {
     "data": {
      "text/plain": [
       "'hello arpan'"
      ]
     },
     "execution_count": 11,
     "metadata": {},
     "output_type": "execute_result"
    }
   ],
   "source": [
    "path = r\"C:\\Users\\Administrator\\Desktop\\\\arpan.txt\"\n",
    "file = open(path,\"r\")\n",
    "file.read()"
   ]
  },
  {
   "cell_type": "markdown",
   "metadata": {},
   "source": [
    "# counting how many lines are there in file"
   ]
  },
  {
   "cell_type": "code",
   "execution_count": 27,
   "metadata": {},
   "outputs": [
    {
     "name": "stdout",
     "output_type": "stream",
     "text": [
      "line number 1 : hello arpan\n",
      "line number 2 : good moorning everybodyTotal line = 2\n",
      "['good', 'moorning', 'everybody']\n"
     ]
    }
   ],
   "source": [
    "try:\n",
    "    file = open(\"arpan.txt\",\"r\")\n",
    "except:\n",
    "    print(\"File can not be open\")\n",
    "    exit()\n",
    "\n",
    "count =0\n",
    "for line in file:              ##during opening file each line will be treated as a single element inside list\n",
    "    count+=1\n",
    "    print(\"line number\",count,\":\",line,end=\"\")\n",
    "print(\"Total line =\",count) \n",
    "print(s)\n"
   ]
  },
  {
   "cell_type": "markdown",
   "metadata": {},
   "source": [
    "# counting each word from the file"
   ]
  },
  {
   "cell_type": "code",
   "execution_count": 26,
   "metadata": {},
   "outputs": [
    {
     "name": "stdout",
     "output_type": "stream",
     "text": [
      "Total word = 5\n"
     ]
    }
   ],
   "source": [
    "try:\n",
    "    file = open(\"arpan.txt\",\"r\")\n",
    "except:\n",
    "    print(\"File can not be open\")\n",
    "    exit()\n",
    "\n",
    "count =0\n",
    "for line in file:              ##during opening file each line will be treated as a single element inside list\n",
    "    s = line.split(\" \")\n",
    "    for word in s:\n",
    "        count+=1\n",
    "        #print(\"line number\",count,\":\",word)\n",
    "print(\"Total word =\",count)\n",
    "file.close()\n",
    "#print(s)"
   ]
  },
  {
   "cell_type": "code",
   "execution_count": 3,
   "metadata": {},
   "outputs": [
    {
     "name": "stdout",
     "output_type": "stream",
     "text": [
      "35\n",
      "\n",
      "\n",
      "contents are:  hello arpan\n",
      "good moorning everybody\n",
      "\n",
      "\n",
      "The first 20 char are:  hello arpan\n",
      "good moo\n"
     ]
    }
   ],
   "source": [
    "try:\n",
    "    file = open(\"arpan.txt\",\"r\")\n",
    "except:\n",
    "    print(\"File can not be open\")\n",
    "    exit()\n",
    "k = file.read()#storing the whole file inside a single variable,it will take more memory,we can get stackoverflow error\n",
    "print(len(k))\n",
    "print(\"\\n\")\n",
    "print(\"contents are: \",k)\n",
    "print(\"\\n\")\n",
    "print(\"The first 20 char are: \",k[:20])"
   ]
  },
  {
   "cell_type": "markdown",
   "metadata": {},
   "source": [
    "# write the data into file"
   ]
  },
  {
   "cell_type": "code",
   "execution_count": 4,
   "metadata": {},
   "outputs": [
    {
     "name": "stdout",
     "output_type": "stream",
     "text": [
      "Enter a line :hello arpan\n",
      "Enter a line :how are you doing?\n",
      "Enter a line :i love bangalore\n",
      "Enter a line :weather is nice\n",
      "File writing over\n"
     ]
    }
   ],
   "source": [
    "try:\n",
    "    file = open(\"new.txt\",\"w\")\n",
    "except:\n",
    "    print(\"File can not be open\")\n",
    "    exit()\n",
    "\n",
    "for line in range(4):              ##writing 4 line raking range(4)\n",
    "    line = input(\"Enter a line :\")\n",
    "    file.write(line +\"\\n\") #\\n for new line after each input\n",
    "print(\"File writing over\")\n",
    "file.close()"
   ]
  },
  {
   "cell_type": "code",
   "execution_count": null,
   "metadata": {},
   "outputs": [],
   "source": []
  },
  {
   "cell_type": "markdown",
   "metadata": {},
   "source": [
    "# write prog to count no of char no of words and no of lines"
   ]
  },
  {
   "cell_type": "code",
   "execution_count": 10,
   "metadata": {},
   "outputs": [
    {
     "name": "stdout",
     "output_type": "stream",
     "text": [
      "Total line = 2\n",
      "Total char = 35\n",
      "Total word = 5\n"
     ]
    }
   ],
   "source": [
    "try:\n",
    "    file = open(\"arpan.txt\",\"r\")\n",
    "except:\n",
    "    print(\"File can not be open\")\n",
    "    exit()\n",
    "\n",
    "count =0\n",
    "word = 0\n",
    "line1 = 0\n",
    "for line in file:              ##during opening file each line will be treated as a single element inside list\n",
    "    s = line.split(\" \")\n",
    "    line1 +=1 \n",
    "    word +=len(s) \n",
    "    count+=len(line)\n",
    "        #print(\"line number\",count,\":\",word)\n",
    "print(\"Total line =\",line1)\n",
    "print(\"Total char =\",count)\n",
    "print(\"Total word =\",word)\n",
    "file.close()\n",
    "#print(s)"
   ]
  },
  {
   "cell_type": "markdown",
   "metadata": {},
   "source": [
    "# write a prog to search and print all the lines  starting with a specific word in a file"
   ]
  },
  {
   "cell_type": "code",
   "execution_count": 9,
   "metadata": {},
   "outputs": [
    {
     "name": "stdout",
     "output_type": "stream",
     "text": [
      "Enter the file name with extension:arpan.txt\n",
      "Enter a word to be searched: hello\n",
      "hello arpan\n",
      "\n"
     ]
    }
   ],
   "source": [
    "file_name = input(\"Enter the file name with extension:\")\n",
    "word = input(\"Enter a word to be searched: \")\n",
    "try:\n",
    "    file = open(file_name,\"r\")\n",
    "except:\n",
    "    print(\"File can not be open\")\n",
    "    exit()\n",
    "for line in file:\n",
    "    if line.startswith(\"hello\"):\n",
    "        print(line)\n",
    "    else:\n",
    "        pass\n",
    "file.close()"
   ]
  },
  {
   "cell_type": "code",
   "execution_count": null,
   "metadata": {},
   "outputs": [],
   "source": []
  },
  {
   "cell_type": "markdown",
   "metadata": {},
   "source": [
    "# Dictionary"
   ]
  },
  {
   "cell_type": "code",
   "execution_count": 12,
   "metadata": {},
   "outputs": [
    {
     "data": {
      "text/plain": [
       "dict"
      ]
     },
     "execution_count": 12,
     "metadata": {},
     "output_type": "execute_result"
    }
   ],
   "source": [
    "d=dict()\n",
    "type(d)"
   ]
  },
  {
   "cell_type": "code",
   "execution_count": 13,
   "metadata": {},
   "outputs": [
    {
     "name": "stdout",
     "output_type": "stream",
     "text": [
      "{'Mango': 'Fruit', 'Cucumber': 'Veg', 'water': 'liquid'}\n"
     ]
    }
   ],
   "source": [
    "d[\"Mango\"]=\"Fruit\"\n",
    "d[\"Cucumber\"]=\"Veg\"\n",
    "d[\"water\"]=\"liquid\"\n",
    "print(d)"
   ]
  },
  {
   "cell_type": "code",
   "execution_count": 15,
   "metadata": {},
   "outputs": [
    {
     "name": "stdout",
     "output_type": "stream",
     "text": [
      "{'Fruit': 'Mango', 'Veg': 'spinach', 'liquid': 'Water'}\n"
     ]
    }
   ],
   "source": [
    "k={}\n",
    "k[\"Fruit\"]=\"Mango\"\n",
    "k[\"Veg\"]=\"Cucumber\"#each key will be unique\n",
    "k[\"liquid\"]=\"Water\"\n",
    "k[\"Veg\"] = \"spinach\"\n",
    "print(k)"
   ]
  },
  {
   "cell_type": "code",
   "execution_count": 16,
   "metadata": {},
   "outputs": [
    {
     "data": {
      "text/plain": [
       "{'key1': 'value', 'key2': 'value2', 'key3': 'value3'}"
      ]
     },
     "execution_count": 16,
     "metadata": {},
     "output_type": "execute_result"
    }
   ],
   "source": [
    "tel_dir = {\"key1\":\"value\",\"key2\":\"value2\",\"key3\":\"value3\"}\n",
    "tel_dir"
   ]
  },
  {
   "cell_type": "code",
   "execution_count": 17,
   "metadata": {},
   "outputs": [
    {
     "data": {
      "text/plain": [
       "{'key1': 'value', 'key2': 'value2', 'key3': 'value3', 'key4': 'value4'}"
      ]
     },
     "execution_count": 17,
     "metadata": {},
     "output_type": "execute_result"
    }
   ],
   "source": [
    "#creating another key with and inserting in the same dictionary\n",
    "tel_dir[\"key4\"]=\"value4\"\n",
    "tel_dir"
   ]
  },
  {
   "cell_type": "code",
   "execution_count": 18,
   "metadata": {},
   "outputs": [
    {
     "data": {
      "text/plain": [
       "4"
      ]
     },
     "execution_count": 18,
     "metadata": {},
     "output_type": "execute_result"
    }
   ],
   "source": [
    "len(tel_dir)"
   ]
  },
  {
   "cell_type": "code",
   "execution_count": 19,
   "metadata": {},
   "outputs": [
    {
     "data": {
      "text/plain": [
       "True"
      ]
     },
     "execution_count": 19,
     "metadata": {},
     "output_type": "execute_result"
    }
   ],
   "source": [
    "\"key1\" in tel_dir"
   ]
  },
  {
   "cell_type": "code",
   "execution_count": 21,
   "metadata": {},
   "outputs": [
    {
     "data": {
      "text/plain": [
       "True"
      ]
     },
     "execution_count": 21,
     "metadata": {},
     "output_type": "execute_result"
    }
   ],
   "source": [
    "\"value2\" in tel_dir.values()"
   ]
  },
  {
   "cell_type": "code",
   "execution_count": 22,
   "metadata": {},
   "outputs": [
    {
     "data": {
      "text/plain": [
       "'value2'"
      ]
     },
     "execution_count": 22,
     "metadata": {},
     "output_type": "execute_result"
    }
   ],
   "source": [
    "#get function for dict\n",
    "tel_dir.get(\"key2\",0)#by default 0 will print if key2 not found\n"
   ]
  },
  {
   "cell_type": "code",
   "execution_count": 24,
   "metadata": {},
   "outputs": [
    {
     "data": {
      "text/plain": [
       "'key5 not found'"
      ]
     },
     "execution_count": 24,
     "metadata": {},
     "output_type": "execute_result"
    }
   ],
   "source": [
    "tel_dir.get(\"key5\",\"key5 not found\")#key5 is not present so the value we given that is printed"
   ]
  },
  {
   "cell_type": "markdown",
   "metadata": {},
   "source": [
    "# write a prog to read a sentence count no of occurances of each char in the string use dict"
   ]
  },
  {
   "cell_type": "markdown",
   "metadata": {},
   "source": [
    "## example:input string is hello then output must be {\"h\":1,\"e\":1,\"l\":2,\"o\":1}"
   ]
  },
  {
   "cell_type": "code",
   "execution_count": null,
   "metadata": {},
   "outputs": [],
   "source": [
    "k={}"
   ]
  },
  {
   "cell_type": "code",
   "execution_count": null,
   "metadata": {},
   "outputs": [],
   "source": []
  },
  {
   "cell_type": "code",
   "execution_count": 2,
   "metadata": {},
   "outputs": [
    {
     "name": "stdout",
     "output_type": "stream",
     "text": [
      "Enter the string:hello\n",
      "{'h': 1, 'e': 1, 'l': 2, 'o': 1}\n"
     ]
    }
   ],
   "source": [
    "dict1 = {}\n",
    "x = input(\"Enter the string:\")\n",
    "for char in x:\n",
    "    dict1[char]=dict1.get(char,0)+1\n",
    "print(dict1)"
   ]
  },
  {
   "cell_type": "markdown",
   "metadata": {},
   "source": [
    "# Write a prog to find out how many times a perticular word has appeared"
   ]
  },
  {
   "cell_type": "code",
   "execution_count": 42,
   "metadata": {},
   "outputs": [
    {
     "name": "stdout",
     "output_type": "stream",
     "text": [
      "{'hello': 2, 'arpan': 1, 'good': 1, 'moorning': 1, 'everybody': 1, 'how': 1, 'are': 1, 'you': 1}\n",
      "\n",
      "\n",
      "SORT ALPHABETICAL ORDER\n",
      "\n",
      "are 1:arpan 1:everybody 1:good 1:hello 2:how 1:moorning 1:you 1:"
     ]
    }
   ],
   "source": [
    "try:\n",
    "    file = open(\"arpan.txt\",\"r\")\n",
    "except:\n",
    "    print(\"File can not be open\")\n",
    "    exit()\n",
    "    \n",
    "dict3 = {}\n",
    "\n",
    "for line in file:              ##during opening file each line will be treated as a single element inside list\n",
    "    word_list = line.split()\n",
    "    for word in word_list:\n",
    "        dict3[word]=dict3.get(word,0)+1\n",
    "        #print(\"line number\",count,\":\",word)\n",
    "print(dict3)\n",
    "key = list(dict3.keys())\n",
    "#print(key)\n",
    "key.sort()\n",
    "print(\"\\n\")\n",
    "print(\"SORT ALPHABETICAL ORDER\\n\")\n",
    "for k in key:\n",
    "    print(k,dict3[k],end=\":\")\n",
    "file.close()\n",
    "#print(s)"
   ]
  },
  {
   "cell_type": "code",
   "execution_count": null,
   "metadata": {},
   "outputs": [],
   "source": []
  },
  {
   "cell_type": "code",
   "execution_count": 44,
   "metadata": {},
   "outputs": [
    {
     "name": "stdout",
     "output_type": "stream",
     "text": [
      "key1 value\n",
      "key2 value2\n",
      "key3 value3\n"
     ]
    }
   ],
   "source": [
    "#using items( ) on dict\n",
    "tel_dir = {\"key1\":\"value\",\"key2\":\"value2\",\"key3\":\"value3\"}\n",
    "for k,v in tel_dir.items():\n",
    "    print(k,v)"
   ]
  },
  {
   "cell_type": "code",
   "execution_count": 5,
   "metadata": {},
   "outputs": [
    {
     "name": "stdout",
     "output_type": "stream",
     "text": [
      "(1, 4)\n",
      "(2, 5)\n",
      "(3, 6)\n"
     ]
    }
   ],
   "source": [
    "a=[1,2,3]\n",
    "b=[4,5,6]\n",
    "for i in zip(a,b):\n",
    "    print(i)"
   ]
  },
  {
   "cell_type": "markdown",
   "metadata": {},
   "source": [
    "# Advance text parsing"
   ]
  },
  {
   "cell_type": "code",
   "execution_count": 45,
   "metadata": {},
   "outputs": [
    {
     "data": {
      "text/plain": [
       "'!\"#$%&\\'()*+,-./:;<=>?@[\\\\]^_`{|}~'"
      ]
     },
     "execution_count": 45,
     "metadata": {},
     "output_type": "execute_result"
    }
   ],
   "source": [
    "import string\n",
    "string.punctuation"
   ]
  },
  {
   "cell_type": "markdown",
   "metadata": {},
   "source": [
    "# define a python fun ascending which take one arguments any list that returns true if each element in the list is atleast as big as \n",
    "1.[3,3,4]-true\n",
    "2.[7,18,17,19]-False\n",
    "3.[1,3,10,21]-true\n",
    "4.[]-true"
   ]
  },
  {
   "cell_type": "code",
   "execution_count": 80,
   "metadata": {},
   "outputs": [
    {
     "data": {
      "text/plain": [
       "False"
      ]
     },
     "execution_count": 80,
     "metadata": {},
     "output_type": "execute_result"
    }
   ],
   "source": [
    "def ascending(list1):\n",
    "    for items in range(len(list1)-1):\n",
    "        if list1[items] <= list1[items+1]:\n",
    "            return False\n",
    "    return True\n",
    "list2 = [7,18,17,19]            \n",
    "ascending(list2)\n"
   ]
  },
  {
   "cell_type": "code",
   "execution_count": 72,
   "metadata": {},
   "outputs": [
    {
     "data": {
      "text/plain": [
       "3"
      ]
     },
     "execution_count": 72,
     "metadata": {},
     "output_type": "execute_result"
    }
   ],
   "source": [
    "list2 = [3,3,4]\n",
    "len(list2)"
   ]
  },
  {
   "cell_type": "markdown",
   "metadata": {},
   "source": [
    "# wap to print first 10 and last 10 line of a file"
   ]
  },
  {
   "cell_type": "code",
   "execution_count": 5,
   "metadata": {},
   "outputs": [
    {
     "name": "stdout",
     "output_type": "stream",
     "text": [
      "hdgahgd dgahgdjhag\n",
      "ahdjagdjgajdg gda gda\n",
      "djhagdag dga dgajkd \n",
      "gdagdayd adhauiw \n",
      "hdjagd audahdauhd hdadhadhad adha d\n",
      "wyahdkabcuga dukahd dhu dhadh\n",
      "agdagdjg djak\n",
      "adhawavjhva ahdvagd\n",
      "adbaygwdyad adgadg adgadg adajbcagd \n",
      "jahduah da dadhajbdjagcbac a dahd ajkhd\n",
      "awbahda  udhaud ha dnakdhyuagacbb \n",
      "awahc bajwduhadbca hdahdakhdkahf\n",
      "ajdjagjcda dhakdjhajkdh\n",
      "agwgajdbajwhajkb ahwahdjah hda jhw ka\n",
      "awajbajwgja wga jgdjabdajh da gd\n",
      "agwjagwa wjkahwjghajkhw\n",
      "awjawjahwjhajk whjkahwjk\n",
      "wagjagwjgajhwgjha gwjhagwj\n",
      "hawjkhabajbxagwjgajajb wgajgwjahg\n",
      "aghwawbab awuagw ahwua\n"
     ]
    }
   ],
   "source": [
    "try:\n",
    "    file = open(\"hello.txt\",\"r\")\n",
    "except:\n",
    "    print(\"File can not be open\")\n",
    "    exit()\n",
    "s = file.read()\n",
    "ls = s.split(\"\\n\")\n",
    "for line in ls[:10]:\n",
    "    print(line)\n",
    "for line1 in ls[-10:]:\n",
    "    print(line1)        \n",
    "\n",
    "file.close()\n"
   ]
  },
  {
   "cell_type": "markdown",
   "metadata": {},
   "source": [
    "# wap to copy content of one file into another file"
   ]
  },
  {
   "cell_type": "code",
   "execution_count": 1,
   "metadata": {},
   "outputs": [],
   "source": [
    "try:\n",
    "    with open(\"hello.txt\") as f:\n",
    "        with open(\"new_hello.txt\",\"w\") as f1:\n",
    "            for line in f:\n",
    "                f1.write(line)\n",
    "except:\n",
    "    print(\"file can not be opened\")"
   ]
  },
  {
   "cell_type": "code",
   "execution_count": null,
   "metadata": {},
   "outputs": [],
   "source": []
  },
  {
   "cell_type": "code",
   "execution_count": null,
   "metadata": {},
   "outputs": [],
   "source": []
  },
  {
   "cell_type": "code",
   "execution_count": 91,
   "metadata": {},
   "outputs": [
    {
     "data": {
      "text/plain": [
       "False"
      ]
     },
     "execution_count": 91,
     "metadata": {},
     "output_type": "execute_result"
    }
   ],
   "source": [
    "d1 = {\"john\":40,\"peter\":45}\n",
    "d2 = {\"john\":466,\"peter\":45}\n",
    "d1==d2 #checking value"
   ]
  },
  {
   "cell_type": "code",
   "execution_count": 93,
   "metadata": {},
   "outputs": [
    {
     "ename": "TypeError",
     "evalue": "'>' not supported between instances of 'dict' and 'dict'",
     "output_type": "error",
     "traceback": [
      "\u001b[1;31m---------------------------------------------------------------------------\u001b[0m",
      "\u001b[1;31mTypeError\u001b[0m                                 Traceback (most recent call last)",
      "\u001b[1;32m<ipython-input-93-21dfa68ab21c>\u001b[0m in \u001b[0;36m<module>\u001b[1;34m\u001b[0m\n\u001b[0;32m      1\u001b[0m \u001b[0md1\u001b[0m \u001b[1;33m=\u001b[0m \u001b[1;33m{\u001b[0m\u001b[1;34m\"john\"\u001b[0m\u001b[1;33m:\u001b[0m\u001b[1;36m40\u001b[0m\u001b[1;33m,\u001b[0m\u001b[1;34m\"peter\"\u001b[0m\u001b[1;33m:\u001b[0m\u001b[1;36m45\u001b[0m\u001b[1;33m}\u001b[0m\u001b[1;33m\u001b[0m\u001b[1;33m\u001b[0m\u001b[0m\n\u001b[0;32m      2\u001b[0m \u001b[0md2\u001b[0m \u001b[1;33m=\u001b[0m \u001b[1;33m{\u001b[0m\u001b[1;34m\"john\"\u001b[0m\u001b[1;33m:\u001b[0m\u001b[1;36m40\u001b[0m\u001b[1;33m,\u001b[0m\u001b[1;34m\"peter\"\u001b[0m\u001b[1;33m:\u001b[0m\u001b[1;36m45\u001b[0m\u001b[1;33m}\u001b[0m\u001b[1;33m\u001b[0m\u001b[1;33m\u001b[0m\u001b[0m\n\u001b[1;32m----> 3\u001b[1;33m \u001b[0md1\u001b[0m\u001b[1;33m>\u001b[0m\u001b[0md2\u001b[0m\u001b[1;33m\u001b[0m\u001b[1;33m\u001b[0m\u001b[0m\n\u001b[0m",
      "\u001b[1;31mTypeError\u001b[0m: '>' not supported between instances of 'dict' and 'dict'"
     ]
    }
   ],
   "source": [
    "d1 = {\"john\":40,\"peter\":45}\n",
    "d2 = {\"john\":40,\"peter\":45}\n",
    "d1>d2"
   ]
  },
  {
   "cell_type": "code",
   "execution_count": 94,
   "metadata": {},
   "outputs": [],
   "source": [
    "d1 = {\"john\":40,\"peter\":45}\n",
    "del d1[\"john\"]"
   ]
  },
  {
   "cell_type": "code",
   "execution_count": 95,
   "metadata": {},
   "outputs": [
    {
     "data": {
      "text/plain": [
       "{'peter': 45}"
      ]
     },
     "execution_count": 95,
     "metadata": {},
     "output_type": "execute_result"
    }
   ],
   "source": [
    "d1"
   ]
  },
  {
   "cell_type": "code",
   "execution_count": 9,
   "metadata": {},
   "outputs": [
    {
     "data": {
      "text/plain": [
       "4"
      ]
     },
     "execution_count": 9,
     "metadata": {},
     "output_type": "execute_result"
    }
   ],
   "source": [
    "d1 = {\"john\":40,\"peter\":45}\n",
    "d1.get(\"susan\",4)"
   ]
  },
  {
   "cell_type": "code",
   "execution_count": 97,
   "metadata": {},
   "outputs": [
    {
     "data": {
      "text/plain": [
       "dict_keys(['john', 'peter'])"
      ]
     },
     "execution_count": 97,
     "metadata": {},
     "output_type": "execute_result"
    }
   ],
   "source": [
    "d1.keys()"
   ]
  },
  {
   "cell_type": "code",
   "execution_count": null,
   "metadata": {},
   "outputs": [],
   "source": []
  }
 ],
 "metadata": {
  "kernelspec": {
   "display_name": "Python 3",
   "language": "python",
   "name": "python3"
  },
  "language_info": {
   "codemirror_mode": {
    "name": "ipython",
    "version": 3
   },
   "file_extension": ".py",
   "mimetype": "text/x-python",
   "name": "python",
   "nbconvert_exporter": "python",
   "pygments_lexer": "ipython3",
   "version": "3.7.1"
  }
 },
 "nbformat": 4,
 "nbformat_minor": 2
}
