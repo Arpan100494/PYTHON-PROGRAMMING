{
 "cells": [
  {
   "cell_type": "markdown",
   "metadata": {},
   "source": [
    "# 1.Write a program to identify palindrome words in a line of text?"
   ]
  },
  {
   "cell_type": "code",
   "execution_count": 4,
   "metadata": {},
   "outputs": [
    {
     "name": "stdout",
     "output_type": "stream",
     "text": [
      "Enter the line of text: malayalam only\n",
      "malayalam\n"
     ]
    }
   ],
   "source": [
    "string = input(\"Enter the line of text: \")\n",
    "for item in string.split():\n",
    "    if item == item[::-1]:\n",
    "        print(item)\n",
    "    else:\n",
    "        pass\n"
   ]
  },
  {
   "cell_type": "code",
   "execution_count": null,
   "metadata": {},
   "outputs": [],
   "source": []
  },
  {
   "cell_type": "markdown",
   "metadata": {},
   "source": [
    "## 2.Write a program to get a string made ofthe first 2 and last 2 chars from a given string. if the string length is less than 2 ,return insted of the empty string."
   ]
  },
  {
   "cell_type": "code",
   "execution_count": 8,
   "metadata": {},
   "outputs": [
    {
     "name": "stdout",
     "output_type": "stream",
     "text": [
      "Enter a string :world\n",
      "Final string is:  wold\n"
     ]
    }
   ],
   "source": [
    "#asking for input\n",
    "\n",
    "\n",
    "#checking string is less than 2 or not\n",
    "def myfunc(string2):\n",
    "    if len(string2) < 2:\n",
    "        return string2\n",
    "    else:\n",
    "        first_char = string2[:2]\n",
    "        last_char = string2[-2:]\n",
    "        final_string = first_char + last_char\n",
    "        \n",
    "    return final_string\n",
    "string2 = input(\"Enter a string :\")\n",
    "\n",
    "#calling function\n",
    "s = myfunc(string2)\n",
    "print(\"Final string is: \",s)"
   ]
  },
  {
   "cell_type": "markdown",
   "metadata": {},
   "source": [
    "## 3.Consider a string s=\"Hello how are you?\".write a program to return this string without spaces."
   ]
  },
  {
   "cell_type": "code",
   "execution_count": 22,
   "metadata": {},
   "outputs": [
    {
     "name": "stdout",
     "output_type": "stream",
     "text": [
      "Hellohowareyou?"
     ]
    }
   ],
   "source": [
    "#1st way\n",
    "s = \"Hello how are you?\"\n",
    "for i in s:\n",
    "    if i == \" \":\n",
    "        pass\n",
    "    else:\n",
    "        print(i,end=\"\")"
   ]
  },
  {
   "cell_type": "code",
   "execution_count": 9,
   "metadata": {},
   "outputs": [
    {
     "name": "stdout",
     "output_type": "stream",
     "text": [
      "Hellohowareyou?\n"
     ]
    }
   ],
   "source": [
    "#2nd way\n",
    "def remove_space(s):\n",
    "    result = s.replace(\" \",\"\")\n",
    "    return result\n",
    "str1 = \"Hello how are you?\"\n",
    "k = remove_space(str1)\n",
    "print(k)"
   ]
  },
  {
   "cell_type": "markdown",
   "metadata": {},
   "source": [
    "# 4.Write a programe to remove the characters which have odd index value of a given string"
   ]
  },
  {
   "cell_type": "code",
   "execution_count": 10,
   "metadata": {},
   "outputs": [
    {
     "name": "stdout",
     "output_type": "stream",
     "text": [
      "Enter the string: gdyad ad audgauigd\n",
      "After removing odd characters : da dadaid\n"
     ]
    }
   ],
   "source": [
    "s = input(\"Enter the string: \")\n",
    "count = 0\n",
    "result =[]\n",
    "while count < len(s):\n",
    "    if count%2 != 0:\n",
    "        var = s[count]\n",
    "        result.append(var)\n",
    "    else:\n",
    "        pass\n",
    "    count = count+1\n",
    "print(\"After removing odd characters :\",\"\".join(result))\n",
    "\n",
    "# or s[::2]"
   ]
  },
  {
   "cell_type": "markdown",
   "metadata": {},
   "source": [
    "## 5.Write a program to change the given string to a new string where first and last chars have been exchanged"
   ]
  },
  {
   "cell_type": "code",
   "execution_count": 36,
   "metadata": {},
   "outputs": [
    {
     "name": "stdout",
     "output_type": "stream",
     "text": [
      "Enter a string :brother\n",
      "Exchanged string is : rrotheb\n"
     ]
    }
   ],
   "source": [
    "s = input(\"Enter a string :\")\n",
    "first_char = s[0]\n",
    "last_char = s[-1]\n",
    "new_string = last_char + s[1:-1] + first_char\n",
    "print(\"Exchanged string is :\",new_string)"
   ]
  },
  {
   "cell_type": "markdown",
   "metadata": {},
   "source": [
    "# MYSTERY FUNCTION"
   ]
  },
  {
   "cell_type": "code",
   "execution_count": 13,
   "metadata": {},
   "outputs": [
    {
     "data": {
      "text/plain": [
       "[25, 28, 41, 12, 17]"
      ]
     },
     "execution_count": 13,
     "metadata": {},
     "output_type": "execute_result"
    }
   ],
   "source": [
    "def mystery(ls):\n",
    "    if len(ls)<2:\n",
    "        return (ls)\n",
    "    else:\n",
    "        return (mystery(ls[1:])+[ls[0]])\n",
    "mystery([17,12,41,28,25])"
   ]
  },
  {
   "cell_type": "code",
   "execution_count": 14,
   "metadata": {},
   "outputs": [
    {
     "data": {
      "text/plain": [
       "[25, 23]"
      ]
     },
     "execution_count": 14,
     "metadata": {},
     "output_type": "execute_result"
    }
   ],
   "source": [
    "[25]+[23]"
   ]
  },
  {
   "cell_type": "code",
   "execution_count": null,
   "metadata": {},
   "outputs": [],
   "source": [
    "num = [1,2,3,4,5]"
   ]
  },
  {
   "cell_type": "code",
   "execution_count": null,
   "metadata": {},
   "outputs": [],
   "source": [
    "def listrotation(ls,num):\n",
    "    list1 = []\n",
    "    count=0\n",
    "    while count<num+1:\n",
    "        list1.append(ls[-1])\n",
    "        count= count + 1\n",
    "        return list1\n",
    "listrotation([1,2,3,4,5],3)   "
   ]
  },
  {
   "cell_type": "code",
   "execution_count": 34,
   "metadata": {},
   "outputs": [],
   "source": [
    "def rotate(ls,num):\n",
    "    for i in range(num):\n",
    "        ls = [ls[-1]] + ls[:-1]\n",
    "    return ls"
   ]
  },
  {
   "cell_type": "code",
   "execution_count": 39,
   "metadata": {},
   "outputs": [
    {
     "data": {
      "text/plain": [
       "[4, 5, 1, 2]"
      ]
     },
     "execution_count": 39,
     "metadata": {},
     "output_type": "execute_result"
    }
   ],
   "source": [
    "rotate([1,2,4,5],2)"
   ]
  },
  {
   "cell_type": "code",
   "execution_count": 41,
   "metadata": {},
   "outputs": [
    {
     "name": "stdout",
     "output_type": "stream",
     "text": [
      "3 44\n",
      "[44, 2, 3]\n"
     ]
    }
   ],
   "source": [
    " def f(value,values):\n",
    "        v=1\n",
    "        values[0] = 44\n",
    "t=3\n",
    "v=[1,2,3]\n",
    "f(t,v)\n",
    "print(t,v[0])\n",
    "print(v)"
   ]
  },
  {
   "cell_type": "code",
   "execution_count": null,
   "metadata": {},
   "outputs": [],
   "source": []
  }
 ],
 "metadata": {
  "kernelspec": {
   "display_name": "Python 3",
   "language": "python",
   "name": "python3"
  },
  "language_info": {
   "codemirror_mode": {
    "name": "ipython",
    "version": 3
   },
   "file_extension": ".py",
   "mimetype": "text/x-python",
   "name": "python",
   "nbconvert_exporter": "python",
   "pygments_lexer": "ipython3",
   "version": "3.7.1"
  }
 },
 "nbformat": 4,
 "nbformat_minor": 2
}
