{
 "cells": [
  {
   "cell_type": "markdown",
   "metadata": {},
   "source": [
    "### Date:12-02-2019"
   ]
  },
  {
   "cell_type": "markdown",
   "metadata": {},
   "source": [
    "## TUPPLES"
   ]
  },
  {
   "cell_type": "code",
   "execution_count": 1,
   "metadata": {},
   "outputs": [
    {
     "data": {
      "text/plain": [
       "tuple"
      ]
     },
     "execution_count": 1,
     "metadata": {},
     "output_type": "execute_result"
    }
   ],
   "source": [
    "t = ()\n",
    "type(t)"
   ]
  },
  {
   "cell_type": "code",
   "execution_count": 2,
   "metadata": {},
   "outputs": [
    {
     "data": {
      "text/plain": [
       "(23, 'hello', 3.4, 12)"
      ]
     },
     "execution_count": 2,
     "metadata": {},
     "output_type": "execute_result"
    }
   ],
   "source": [
    "t = (23,\"hello\",3.4,12)\n",
    "t"
   ]
  },
  {
   "cell_type": "code",
   "execution_count": 3,
   "metadata": {},
   "outputs": [
    {
     "data": {
      "text/plain": [
       "23"
      ]
     },
     "execution_count": 3,
     "metadata": {},
     "output_type": "execute_result"
    }
   ],
   "source": [
    "t[0] #access tuple by index"
   ]
  },
  {
   "cell_type": "code",
   "execution_count": 6,
   "metadata": {},
   "outputs": [
    {
     "data": {
      "text/plain": [
       "tuple"
      ]
     },
     "execution_count": 6,
     "metadata": {},
     "output_type": "execute_result"
    }
   ],
   "source": [
    "t=(3,)   #create single element as a tupple\n",
    "type(t)"
   ]
  },
  {
   "cell_type": "code",
   "execution_count": 9,
   "metadata": {},
   "outputs": [
    {
     "data": {
      "text/plain": [
       "tuple"
      ]
     },
     "execution_count": 9,
     "metadata": {},
     "output_type": "execute_result"
    }
   ],
   "source": [
    "t = 1,2,3\n",
    "type(t)"
   ]
  },
  {
   "cell_type": "code",
   "execution_count": 11,
   "metadata": {},
   "outputs": [
    {
     "data": {
      "text/plain": [
       "('h', 'e', 'l', 'l', 'o')"
      ]
     },
     "execution_count": 11,
     "metadata": {},
     "output_type": "execute_result"
    }
   ],
   "source": [
    "#each element will be treated as a single index\n",
    "t = tuple(\"hello\")\n",
    "t"
   ]
  },
  {
   "cell_type": "code",
   "execution_count": 12,
   "metadata": {},
   "outputs": [
    {
     "data": {
      "text/plain": [
       "(12, -3, 'hi', [5, 6], 35)"
      ]
     },
     "execution_count": 12,
     "metadata": {},
     "output_type": "execute_result"
    }
   ],
   "source": [
    "#createing a tupple using a list\n",
    "ls = [12,-3,\"hi\",[5,6],35]\n",
    "t = tuple(ls)\n",
    "t"
   ]
  },
  {
   "cell_type": "code",
   "execution_count": 14,
   "metadata": {},
   "outputs": [
    {
     "name": "stdout",
     "output_type": "stream",
     "text": [
      "(23, 78, 32)\n",
      "(23, 78, 32)\n",
      "2076161781832\n",
      "2076161781832\n"
     ]
    }
   ],
   "source": [
    "#crating a tupple from another tupple\n",
    "t1 = 23,78,32\n",
    "print(t1)\n",
    "t2 = tuple(t1)\n",
    "print(t2)       #both the casess same address will be given\n",
    "print(id(t1))\n",
    "print(id(t2))"
   ]
  },
  {
   "cell_type": "code",
   "execution_count": 2,
   "metadata": {},
   "outputs": [
    {
     "data": {
      "text/plain": [
       "(45, 67, 98)"
      ]
     },
     "execution_count": 2,
     "metadata": {},
     "output_type": "execute_result"
    }
   ],
   "source": [
    "t3 = (12,43,45,67,98)\n",
    "t3[-3:]"
   ]
  },
  {
   "cell_type": "code",
   "execution_count": 16,
   "metadata": {},
   "outputs": [
    {
     "data": {
      "text/plain": [
       "(12, 43, 45)"
      ]
     },
     "execution_count": 16,
     "metadata": {},
     "output_type": "execute_result"
    }
   ],
   "source": [
    "t3[:-2]"
   ]
  },
  {
   "cell_type": "code",
   "execution_count": 17,
   "metadata": {},
   "outputs": [
    {
     "data": {
      "text/plain": [
       "(98, 67, 45, 43, 12)"
      ]
     },
     "execution_count": 17,
     "metadata": {},
     "output_type": "execute_result"
    }
   ],
   "source": [
    "t3[::-1]"
   ]
  },
  {
   "cell_type": "code",
   "execution_count": 6,
   "metadata": {},
   "outputs": [
    {
     "data": {
      "text/plain": [
       "(43,)"
      ]
     },
     "execution_count": 6,
     "metadata": {},
     "output_type": "execute_result"
    }
   ],
   "source": [
    "t3 = (12,43,45,67,98)\n",
    "t3[1:4:3]"
   ]
  },
  {
   "cell_type": "code",
   "execution_count": 21,
   "metadata": {},
   "outputs": [
    {
     "data": {
      "text/plain": [
       "('papaya', 'banana', 'apple')"
      ]
     },
     "execution_count": 21,
     "metadata": {},
     "output_type": "execute_result"
    }
   ],
   "source": [
    "t = (\"mango\",\"banana\",\"apple\")\n",
    "t = (\"papaya\",) + t[1:]\n",
    "t"
   ]
  },
  {
   "cell_type": "markdown",
   "metadata": {},
   "source": [
    "# VVI"
   ]
  },
  {
   "cell_type": "code",
   "execution_count": 25,
   "metadata": {},
   "outputs": [
    {
     "name": "stdout",
     "output_type": "stream",
     "text": [
      "hello\n",
      "world\n"
     ]
    }
   ],
   "source": [
    "# assiging list into tupple\n",
    "list1 = [\"hello\",\"world\"]\n",
    "x, y = list1 \n",
    "print(x)\n",
    "print(y)"
   ]
  },
  {
   "cell_type": "code",
   "execution_count": 26,
   "metadata": {},
   "outputs": [
    {
     "name": "stdout",
     "output_type": "stream",
     "text": [
      "20\n",
      "10\n"
     ]
    }
   ],
   "source": [
    "#swaping\n",
    "a=10\n",
    "b=20\n",
    "a, b =b, a\n",
    "print(a)\n",
    "print(b)"
   ]
  },
  {
   "cell_type": "code",
   "execution_count": 30,
   "metadata": {},
   "outputs": [
    {
     "name": "stdout",
     "output_type": "stream",
     "text": [
      "User Name:  arpanbhunia94\n",
      "Domain Name:  gmail.com\n"
     ]
    }
   ],
   "source": [
    "email = \"arpanbhunia94@gmail.com\"\n",
    "username,domain = email.split(\"@\")\n",
    "print(\"User Name: \",username)\n",
    "print(\"Domain Name: \",domain)"
   ]
  },
  {
   "cell_type": "markdown",
   "metadata": {},
   "source": [
    "## python and Dictionary"
   ]
  },
  {
   "cell_type": "code",
   "execution_count": 31,
   "metadata": {},
   "outputs": [
    {
     "name": "stdout",
     "output_type": "stream",
     "text": [
      "[('a', 10), ('b', 1), ('c', 22)]\n"
     ]
    }
   ],
   "source": [
    "d = {\"a\":10,\"b\":1,\"c\":22}\n",
    "t = list(d.items())\n",
    "print(t)"
   ]
  },
  {
   "cell_type": "code",
   "execution_count": 34,
   "metadata": {},
   "outputs": [
    {
     "name": "stdout",
     "output_type": "stream",
     "text": [
      "[('Adam', 1), ('Donald', 22), ('Tom', 10)]\n"
     ]
    }
   ],
   "source": [
    "#sorting and printing\n",
    "d1 = {\"Tom\":10,\"Adam\":1,\"Donald\":22}\n",
    "list1 = list(d1.items())\n",
    "list1.sort()\n",
    "print(list1)"
   ]
  },
  {
   "cell_type": "code",
   "execution_count": 11,
   "metadata": {},
   "outputs": [
    {
     "data": {
      "text/plain": [
       "[('Adam', 1), ('Donald', 22), ('Tom', 10)]"
      ]
     },
     "execution_count": 11,
     "metadata": {},
     "output_type": "execute_result"
    }
   ],
   "source": [
    "d1 = {\"Tom\":10,\"Adam\":1,\"Donald\":22}\n",
    "d1 = list(d1.items())\n",
    "d1.sort()\n",
    "d1"
   ]
  },
  {
   "cell_type": "markdown",
   "metadata": {},
   "source": [
    "# write a program to sort words of a given sen from longest to smallest"
   ]
  },
  {
   "cell_type": "code",
   "execution_count": 50,
   "metadata": {},
   "outputs": [
    {
     "name": "stdout",
     "output_type": "stream",
     "text": [
      "Enter the string: hi this arpan bhunia\n",
      "[('this', 4), ('hi', 2), ('bhunia', 6), ('arpan', 5)]\n"
     ]
    }
   ],
   "source": [
    "empty_dict = {}\n",
    "sent = input(\"Enter the string: \")\n",
    "list_words = sent.split()\n",
    "for char in list_words:\n",
    "    empty_dict[char] = len(char)\n",
    "list1 = list(empty_dict.items())\n",
    "list1.sort(reverse=True)\n",
    "print(list1)"
   ]
  },
  {
   "cell_type": "code",
   "execution_count": 42,
   "metadata": {},
   "outputs": [
    {
     "data": {
      "text/plain": [
       "5"
      ]
     },
     "execution_count": 42,
     "metadata": {},
     "output_type": "execute_result"
    }
   ],
   "source": [
    "len(\"hello\")"
   ]
  },
  {
   "cell_type": "code",
   "execution_count": null,
   "metadata": {},
   "outputs": [],
   "source": [
    "input1 = input(\"enter the string: \")\n",
    "words = input1.split()\n",
    "for word in words:\n",
    "    t.append(len(word),word)\n",
    "t.sort(reverse=True)\n",
    "res = list()\n",
    "\n",
    "\n",
    "for length,word in t:\n",
    "    res.append(word)"
   ]
  },
  {
   "cell_type": "code",
   "execution_count": 57,
   "metadata": {},
   "outputs": [
    {
     "name": "stdout",
     "output_type": "stream",
     "text": [
      "Help on method_descriptor:\n",
      "\n",
      "sort(self, /, *, key=None, reverse=False)\n",
      "    Stable sort *IN PLACE*.\n",
      "\n"
     ]
    }
   ],
   "source": [
    "help(list.sort)"
   ]
  },
  {
   "cell_type": "code",
   "execution_count": 54,
   "metadata": {},
   "outputs": [
    {
     "name": "stdout",
     "output_type": "stream",
     "text": [
      "Enter the string: hi this is arpan here\n",
      "Result:  ['arpan', 'this', 'here', 'hi', 'is']\n"
     ]
    }
   ],
   "source": [
    "#write a program to sort words of a given sen from longest to smallest \n",
    "s = input(\"Enter the string: \")\n",
    "word_list = s.split(\" \")\n",
    "word_list.sort(key=len, reverse=True)\n",
    "print(\"Result: \",word_list)"
   ]
  },
  {
   "cell_type": "code",
   "execution_count": 66,
   "metadata": {},
   "outputs": [
    {
     "name": "stdout",
     "output_type": "stream",
     "text": [
      "Enter the name of the file: download.txt\n",
      "[2, 12, 13, 2, 6, 2, 2, 2, 7, 2, 3, 2, 4, 3, 2, 7, 6, 3, 2, 2, 2, 6, 3, 3, 3, 4, 4, 12, 3, 2, 9, 2, 2, 2, 6, 3, 2, 7, 2, 2, 2, 2, 13, 4, 2, 5, 2, 2, 2, 2, 2, 3, 3, 2, 1, 1, 1, 1, 2, 1, 1, 1, 2, 1, 1, 1, 2, 1, 6, 1, 1, 1, 1, 1, 1, 1, 2, 1, 3, 1, 1, 2, 1, 2, 1, 1, 1, 1, 1, 1, 1, 1, 1, 1, 1, 1, 1, 1, 1, 1, 1, 1, 1, 1, 1, 1, 1, 1, 1, 1, 1]\n"
     ]
    }
   ],
   "source": [
    "import string\n",
    "fname = input(\"Enter the name of the file: \")\n",
    "try:\n",
    "    fhand = open(fname,\"r\")\n",
    "except:\n",
    "    print(\"File can not be opend\")\n",
    "    exit()\n",
    "d = {}\n",
    "for line in fhand:\n",
    "    line = line.rstrip()\n",
    "    line = line.translate(line.maketrans(\"\",\"\",string.punctuation))\n",
    "    line = line.lower()\n",
    "    for word in line.split():\n",
    "        d[word] = d.get(word,0) + 1\n",
    "\n",
    "k = list(d.items())\n",
    "k.sort(key=len,reverse=True)\n",
    "res = list()\n",
    "\n",
    "for length,word in k:\n",
    "    res.append(word)\n",
    "print(res)\n",
    "#print(d)"
   ]
  },
  {
   "cell_type": "markdown",
   "metadata": {},
   "source": [
    "# --------------------------------------------------------------------------------------------------------------"
   ]
  },
  {
   "cell_type": "markdown",
   "metadata": {},
   "source": [
    "---------"
   ]
  },
  {
   "cell_type": "markdown",
   "metadata": {},
   "source": [
    "# SET"
   ]
  },
  {
   "cell_type": "code",
   "execution_count": 67,
   "metadata": {},
   "outputs": [
    {
     "name": "stdout",
     "output_type": "stream",
     "text": [
      "<class 'set'>\n"
     ]
    }
   ],
   "source": [
    "st = {\"apple\",\"banana\",\"orange\"}\n",
    "print(type(st))"
   ]
  },
  {
   "cell_type": "code",
   "execution_count": 68,
   "metadata": {},
   "outputs": [
    {
     "name": "stdout",
     "output_type": "stream",
     "text": [
      "{'banana', 'apple', 'orange'}\n"
     ]
    }
   ],
   "source": [
    "#set is unorder data type\n",
    "print(st)"
   ]
  },
  {
   "cell_type": "code",
   "execution_count": 69,
   "metadata": {},
   "outputs": [
    {
     "name": "stdout",
     "output_type": "stream",
     "text": [
      "{'cherry', 'banana', 'apple', 'orange'}\n"
     ]
    }
   ],
   "source": [
    "#add element to set\\\n",
    "st.add(\"cherry\")\n",
    "print(st)"
   ]
  },
  {
   "cell_type": "code",
   "execution_count": 70,
   "metadata": {},
   "outputs": [
    {
     "name": "stdout",
     "output_type": "stream",
     "text": [
      "{'cherry', 'apple', 'orange'}\n"
     ]
    }
   ],
   "source": [
    "#remove element from the set\n",
    "st.remove(\"banana\")\n",
    "print(st)"
   ]
  },
  {
   "cell_type": "code",
   "execution_count": 71,
   "metadata": {},
   "outputs": [
    {
     "name": "stdout",
     "output_type": "stream",
     "text": [
      "{'orange', 'cherry', 'papaya', 'pineapple', 'apple'}\n"
     ]
    }
   ],
   "source": [
    "#adding more than one element\n",
    "st.update([\"cherry\",\"papaya\",\"pineapple\"])\n",
    "print(st)"
   ]
  },
  {
   "cell_type": "code",
   "execution_count": 72,
   "metadata": {},
   "outputs": [
    {
     "name": "stdout",
     "output_type": "stream",
     "text": [
      "{'cherry', 'papaya', 'apple', 'orange'}\n"
     ]
    }
   ],
   "source": [
    "set1 = {'orange', 'cherry', 'papaya', 'orange', 'apple'}#set will not allows duplication of the data\n",
    "print(set1)"
   ]
  },
  {
   "cell_type": "markdown",
   "metadata": {},
   "source": [
    "## write a prog to eliminate repeated entries in a list and keep single copy of each element\n"
   ]
  },
  {
   "cell_type": "code",
   "execution_count": 13,
   "metadata": {},
   "outputs": [
    {
     "name": "stdout",
     "output_type": "stream",
     "text": [
      "['green', 'yellow', 'red', 'orange']\n"
     ]
    }
   ],
   "source": [
    "list2 = [\"green\",\"yellow\",\"orange\",\"yellow\",\"red\",\"green\"]\n",
    "removed_duplicate = list(set(list2))\n",
    "print(removed_duplicate)"
   ]
  },
  {
   "cell_type": "markdown",
   "metadata": {},
   "source": [
    "# --------------------------------------------------------------------------------------------------------------"
   ]
  },
  {
   "cell_type": "markdown",
   "metadata": {},
   "source": [
    "# LAMBDA"
   ]
  },
  {
   "cell_type": "code",
   "execution_count": 79,
   "metadata": {},
   "outputs": [
    {
     "name": "stdout",
     "output_type": "stream",
     "text": [
      "15\n"
     ]
    }
   ],
   "source": [
    "y = lambda x: x + 10\n",
    "print(y(5))"
   ]
  },
  {
   "cell_type": "code",
   "execution_count": 80,
   "metadata": {},
   "outputs": [
    {
     "name": "stdout",
     "output_type": "stream",
     "text": [
      "200\n"
     ]
    }
   ],
   "source": [
    "x = lambda a,b:a*b\n",
    "print(x(10,20))\n"
   ]
  },
  {
   "cell_type": "code",
   "execution_count": 85,
   "metadata": {},
   "outputs": [
    {
     "name": "stdout",
     "output_type": "stream",
     "text": [
      "[0, 2, 4, 6, 8, 10]\n"
     ]
    }
   ],
   "source": [
    "x = list(range(11))\n",
    "y = list(filter(lambda f: (f%2==0),x))\n",
    "print(y)"
   ]
  },
  {
   "cell_type": "markdown",
   "metadata": {},
   "source": [
    "# lambda function inside normal function"
   ]
  },
  {
   "cell_type": "code",
   "execution_count": 86,
   "metadata": {},
   "outputs": [
    {
     "name": "stdout",
     "output_type": "stream",
     "text": [
      "22\n",
      "33\n"
     ]
    }
   ],
   "source": [
    "def myfunc(n):\n",
    "    return lambda a: a*n\n",
    "mydoubler = myfunc(2)#myfunc return lambda function ex:lambda a: a*n\n",
    "mytripler = myfunc(3)\n",
    "print(mydoubler(11))#arguments a in lambda function takes 11 now\n",
    "print(mytripler(11))"
   ]
  },
  {
   "cell_type": "markdown",
   "metadata": {},
   "source": [
    "# write a programe for histogramme "
   ]
  },
  {
   "cell_type": "code",
   "execution_count": 110,
   "metadata": {},
   "outputs": [
    {
     "name": "stdout",
     "output_type": "stream",
     "text": [
      "[(11, 1), (7, 2), (12, 2), (14, 2), (13, 4)]\n"
     ]
    }
   ],
   "source": [
    "list1 = [13,12,11,13,14,13,7,7,13,14,12]\n",
    "empty_list= []\n",
    "count = 1\n",
    "for i in list1:\n",
    "    empty_list.append((i,list1.count(i)))\n",
    "    remo_duplicate = list(set(empty_list))\n",
    "    remo_duplicate.sort(key = lambda x:(x[1],x[0]))#sort based on smallst frequency\n",
    "print(remo_duplicate)\n"
   ]
  },
  {
   "cell_type": "code",
   "execution_count": null,
   "metadata": {},
   "outputs": [],
   "source": []
  },
  {
   "cell_type": "markdown",
   "metadata": {},
   "source": [
    "# ------------------------------------------------------------------------------------------------------------------------------"
   ]
  },
  {
   "cell_type": "markdown",
   "metadata": {},
   "source": [
    "## map(),reduce(),filter()"
   ]
  },
  {
   "cell_type": "markdown",
   "metadata": {},
   "source": [
    "# filter()"
   ]
  },
  {
   "cell_type": "code",
   "execution_count": 115,
   "metadata": {},
   "outputs": [
    {
     "name": "stdout",
     "output_type": "stream",
     "text": [
      "[1, 2, 3, 4, 5, 6, 7, 8, 9, 10, 11, 12, 13, 14, 15, 16, 17, 18, 19, 20, 21, 22, 23, 24, 25, 26, 27, 28, 29, 30]\n"
     ]
    }
   ],
   "source": [
    "\n",
    "import math\n",
    "list1 = list(range(31))\n",
    "result = list(filter((lambda x: x*x),list1))\n",
    "print(result)"
   ]
  },
  {
   "cell_type": "code",
   "execution_count": 116,
   "metadata": {},
   "outputs": [
    {
     "name": "stdout",
     "output_type": "stream",
     "text": [
      "[1, 2, 3, 4, 5, 6, 7, 8, 9, 10, 11, 12, 13, 14, 15, 16, 17, 18, 19, 20, 21, 22, 23, 24, 25, 26, 27, 28, 29, 30]\n"
     ]
    }
   ],
   "source": [
    "import math\n",
    "list1 = list(range(31))\n",
    "result = list(filter((lambda x: math.sqrt(x)),list1))\n",
    "print(result)"
   ]
  },
  {
   "cell_type": "code",
   "execution_count": null,
   "metadata": {},
   "outputs": [],
   "source": []
  },
  {
   "cell_type": "code",
   "execution_count": 119,
   "metadata": {},
   "outputs": [
    {
     "name": "stdout",
     "output_type": "stream",
     "text": [
      "Enter a string :hello how are you\n",
      "how are you\n"
     ]
    }
   ],
   "source": [
    "s = input(\"Enter a string :\")\n",
    "ls = s.split()\n",
    "ls1 = list(filter(lambda x:len(x)==3,ls))\n",
    "print(\" \".join(ls1))"
   ]
  },
  {
   "cell_type": "code",
   "execution_count": 123,
   "metadata": {},
   "outputs": [
    {
     "name": "stdout",
     "output_type": "stream",
     "text": [
      "Enter a string :hello how hello\n",
      "hello hello\n"
     ]
    }
   ],
   "source": [
    "s = input(\"Enter a string :\")\n",
    "ls = s.split()\n",
    "ls1 = list(filter(lambda x: x.startswith(\"hello\"),ls))\n",
    "print(\" \".join(ls1))"
   ]
  },
  {
   "cell_type": "markdown",
   "metadata": {},
   "source": [
    "# map()"
   ]
  },
  {
   "cell_type": "code",
   "execution_count": 124,
   "metadata": {},
   "outputs": [
    {
     "name": "stdout",
     "output_type": "stream",
     "text": [
      "[25, 35, 110, 485, 270, 310, 385, 115, 365, 305]\n"
     ]
    }
   ],
   "source": [
    "ls = [5,7,22,97,54,62,77,23,73,61]\n",
    "final_list = list(map(lambda x: x*5,ls))\n",
    "print(final_list)"
   ]
  },
  {
   "cell_type": "code",
   "execution_count": 128,
   "metadata": {},
   "outputs": [
    {
     "name": "stdout",
     "output_type": "stream",
     "text": [
      "enter string: hello how are you\n",
      "['HELLO', 'HOW', 'ARE', 'YOU']\n"
     ]
    }
   ],
   "source": [
    "list2 = input(\"enter string: \")\n",
    "list3 = list2.split()\n",
    "upper = list(map(lambda x: x.upper(),list3))\n",
    "print(upper)"
   ]
  },
  {
   "cell_type": "markdown",
   "metadata": {},
   "source": [
    "# reduce()"
   ]
  },
  {
   "cell_type": "code",
   "execution_count": 130,
   "metadata": {},
   "outputs": [
    {
     "name": "stdout",
     "output_type": "stream",
     "text": [
      "193\n"
     ]
    }
   ],
   "source": [
    "from functools import reduce as rd\n",
    "\n",
    "ls=[5,8,10,20,50,100]\n",
    "sum1 = rd((lambda x,y :x+y),ls)\n",
    "print(sum1)"
   ]
  },
  {
   "cell_type": "markdown",
   "metadata": {},
   "source": [
    "# ---------------------"
   ]
  },
  {
   "cell_type": "code",
   "execution_count": 134,
   "metadata": {},
   "outputs": [
    {
     "data": {
      "text/plain": [
       "[10]"
      ]
     },
     "execution_count": 134,
     "metadata": {},
     "output_type": "execute_result"
    }
   ],
   "source": [
    "tupple1 = 1,2\n",
    "tupple2 = (3,4)\n",
    "[sum(x) for x in [tupple1 + tupple2]]"
   ]
  },
  {
   "cell_type": "code",
   "execution_count": 135,
   "metadata": {},
   "outputs": [
    {
     "name": "stdout",
     "output_type": "stream",
     "text": [
      "[(1, 1, 2), (1, 1, 3), (1, 2, 3)]\n"
     ]
    }
   ],
   "source": [
    "tripples = [(x,y,z) for x in range(1,4) for y in range(x,4) for z in range(y,4) if x+y <=z]\n",
    "print(tripples)"
   ]
  },
  {
   "cell_type": "markdown",
   "metadata": {},
   "source": [
    "# take string and filter out length of the word"
   ]
  },
  {
   "cell_type": "code",
   "execution_count": null,
   "metadata": {},
   "outputs": [],
   "source": []
  },
  {
   "cell_type": "markdown",
   "metadata": {},
   "source": [
    "-----------------"
   ]
  },
  {
   "cell_type": "code",
   "execution_count": 192,
   "metadata": {},
   "outputs": [
    {
     "name": "stdout",
     "output_type": "stream",
     "text": [
      "[('UGM2018001', 'Karthik K'), [('MA101', 'Calculas')], 'AB']\n",
      "[('UGP2018132', 'Arpan Bhunia'), [('PH101', 'Mechanics')], 'A']\n",
      "[('DSC3452651', 'Neha Agarwal'), [('HU101', 'English')], 'B']\n"
     ]
    }
   ],
   "source": [
    "#coursecode and course name\n",
    "course_details = [(\"MA101\",\"Calculas\"),(\"PH101\",\"Mechanics\"),(\"HU101\",\"English\")]\n",
    "#rollnumber and name\n",
    "student_details = [(\"UGM2018001\",\"Karthik K\"),(\"UGP2018132\",\"Arpan Bhunia\"),(\"DSC3452651\",\"Neha Agarwal\")]\n",
    "#rollnumber,coursecode and grade\n",
    "grades = [(\"UGM2018001\",\"MA101\",\"AB\"),(\"UGP2018132\",\"HU101\",\"A\"),(\"DSC3452651\",\"PH101\",\"B\")]\n",
    "\n",
    "#result (rollnumber, name[(coursecode_1,coursename_1,grade),(.............)])\n",
    "\n",
    "for i in range(3):\n",
    "    k = [student_details[i]]+[[(course_details[i])]] + [(grades[i][2])]\n",
    "    print(k)"
   ]
  },
  {
   "cell_type": "code",
   "execution_count": null,
   "metadata": {},
   "outputs": [],
   "source": []
  },
  {
   "cell_type": "code",
   "execution_count": null,
   "metadata": {},
   "outputs": [],
   "source": []
  },
  {
   "cell_type": "code",
   "execution_count": null,
   "metadata": {},
   "outputs": [],
   "source": []
  },
  {
   "cell_type": "code",
   "execution_count": null,
   "metadata": {},
   "outputs": [],
   "source": []
  }
 ],
 "metadata": {
  "kernelspec": {
   "display_name": "Python 3",
   "language": "python",
   "name": "python3"
  },
  "language_info": {
   "codemirror_mode": {
    "name": "ipython",
    "version": 3
   },
   "file_extension": ".py",
   "mimetype": "text/x-python",
   "name": "python",
   "nbconvert_exporter": "python",
   "pygments_lexer": "ipython3",
   "version": "3.7.1"
  }
 },
 "nbformat": 4,
 "nbformat_minor": 2
}
